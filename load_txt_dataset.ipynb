{
 "cells": [
  {
   "cell_type": "code",
   "execution_count": 2,
   "metadata": {},
   "outputs": [],
   "source": [
    "%matplotlib inline\n",
    "\n",
    "import os\n",
    "import sys\n",
    "import shutil\n",
    "from tqdm import trange\n",
    "\n",
    "from vrp_helper_1 import *"
   ]
  },
  {
   "cell_type": "markdown",
   "metadata": {},
   "source": [
    "## Load test sets"
   ]
  },
  {
   "cell_type": "code",
   "execution_count": 3,
   "metadata": {},
   "outputs": [],
   "source": [
    "QA200 = getQADict(\"data/homberger_200_customer_instances\", \"data/solutions_200\") #输出字典：{'data/homberger_200_customer_instances/C1_2_1.TXT': 'data/solutions_200/c1_2_1.txt'}\n",
    "q200_paths = sorted(list(QA200.keys())) # 字典的键列表化并排序：['data/homberger_200_customer_instances/C1_2_1.TXT']\n",
    "q200 = [parse_vrp_question(q) for q in q200_paths] # 节点数据\n",
    "a200 = [parse_vrp_answer(QA200[q]) for q in q200_paths] # 答案数据\n",
    "sol200 = np.mean([get_solDist(get_distMat(q200[i][1]), a200[i]) for i in range(len(a200))]) # 平均最优路径长度\n",
    "\n",
    "solomon_paths = [\"data/solomon/\"+x for x in os.listdir(\"data/solomon\") if x[0]!='.'] # ['data/solomon/c101.txt'],这是另外一个标准数据集\n",
    "q100 = [parse_vrp_question(q) for q in solomon_paths]\n",
    "q50 = [(x[0],x[1][:51]) for x in q100]\n",
    "q25 = [(x[0],x[1][:26]) for x in q100]\n",
    "\n",
    "dist100 = []\n",
    "dist50 = []\n",
    "dist25 = []\n",
    "with open(\"data/solution_solomon.txt\", 'r') as f:\n",
    "    for line in f:\n",
    "        n = line.strip().split(\",\")[0].split('.')[1]\n",
    "        v = float(line.strip().split(\",\")[2])\n",
    "        if int(n)==25:\n",
    "            dist25.append(v)\n",
    "        if int(n)==50:\n",
    "            dist50.append(v)\n",
    "        if int(n)==100:\n",
    "            dist100.append(v)\n",
    "sol25 = np.mean(dist25) #331.26785714285717\n",
    "sol50 = np.mean(dist50)\n",
    "sol100 = np.mean(dist100)"
   ]
  },
  {
   "cell_type": "markdown",
   "metadata": {},
   "source": [
    "## Clear the temp files"
   ]
  },
  {
   "cell_type": "code",
   "execution_count": 5,
   "metadata": {},
   "outputs": [],
   "source": [
    "data_root = \"tmp_datas\"\n",
    "state_path = \"states.txt\"\n",
    "distMat_path = \"distMat.txt\"\n",
    "os.remove(state_path)\n",
    "os.remove(distMat_path)\n",
    "shutil.rmtree(data_root)\n",
    "_=[os.remove(filename) for filename in os.listdir() if \".class\" in filename]"
   ]
  }
 ],
 "metadata": {
  "kernelspec": {
   "display_name": "base",
   "language": "python",
   "name": "python3"
  },
  "language_info": {
   "codemirror_mode": {
    "name": "ipython",
    "version": 3
   },
   "file_extension": ".py",
   "mimetype": "text/x-python",
   "name": "python",
   "nbconvert_exporter": "python",
   "pygments_lexer": "ipython3",
   "version": "3.8.8"
  },
  "vscode": {
   "interpreter": {
    "hash": "ad2bdc8ecc057115af97d19610ffacc2b4e99fae6737bb82f5d7fb13d2f2c186"
   }
  }
 },
 "nbformat": 4,
 "nbformat_minor": 4
}
